{
  "nbformat": 4,
  "nbformat_minor": 0,
  "metadata": {
    "colab": {
      "provenance": [],
      "gpuType": "T4"
    },
    "kernelspec": {
      "name": "python3",
      "display_name": "Python 3"
    },
    "language_info": {
      "name": "python"
    },
    "accelerator": "GPU"
  },
  "cells": [
    {
      "cell_type": "code",
      "execution_count": null,
      "metadata": {
        "colab": {
          "base_uri": "https://localhost:8080/",
          "height": 36
        },
        "id": "LEpHqHxR5Hku",
        "outputId": "0cfb36b5-0a33-46f5-f2d6-c86162c66188"
      },
      "outputs": [
        {
          "output_type": "execute_result",
          "data": {
            "text/plain": [
              "'2.5.1+cu124'"
            ],
            "application/vnd.google.colaboratory.intrinsic+json": {
              "type": "string"
            }
          },
          "metadata": {},
          "execution_count": 119
        }
      ],
      "source": [
        "import torch\n",
        "from torch import nn\n",
        "import matplotlib.pyplot as plt\n",
        "import numpy as np\n",
        "\n",
        "torch.__version__"
      ]
    },
    {
      "cell_type": "code",
      "source": [
        "!nvidia-smi"
      ],
      "metadata": {
        "colab": {
          "base_uri": "https://localhost:8080/"
        },
        "id": "oPfdsRPo5dif",
        "outputId": "f63a8aa6-ae89-487e-8bba-f2d47554cfb2"
      },
      "execution_count": null,
      "outputs": [
        {
          "output_type": "stream",
          "name": "stdout",
          "text": [
            "Tue Feb  4 05:59:45 2025       \n",
            "+-----------------------------------------------------------------------------------------+\n",
            "| NVIDIA-SMI 550.54.15              Driver Version: 550.54.15      CUDA Version: 12.4     |\n",
            "|-----------------------------------------+------------------------+----------------------+\n",
            "| GPU  Name                 Persistence-M | Bus-Id          Disp.A | Volatile Uncorr. ECC |\n",
            "| Fan  Temp   Perf          Pwr:Usage/Cap |           Memory-Usage | GPU-Util  Compute M. |\n",
            "|                                         |                        |               MIG M. |\n",
            "|=========================================+========================+======================|\n",
            "|   0  Tesla T4                       Off |   00000000:00:04.0 Off |                    0 |\n",
            "| N/A   58C    P0             27W /   70W |     158MiB /  15360MiB |      0%      Default |\n",
            "|                                         |                        |                  N/A |\n",
            "+-----------------------------------------+------------------------+----------------------+\n",
            "                                                                                         \n",
            "+-----------------------------------------------------------------------------------------+\n",
            "| Processes:                                                                              |\n",
            "|  GPU   GI   CI        PID   Type   Process name                              GPU Memory |\n",
            "|        ID   ID                                                               Usage      |\n",
            "|=========================================================================================|\n",
            "+-----------------------------------------------------------------------------------------+\n"
          ]
        }
      ]
    },
    {
      "cell_type": "code",
      "source": [
        "# Device agnostic code\n",
        "device = \"cuda\" if torch.cuda.is_available() else \"cpu\"\n",
        "print(f\"Using device: {device}\")"
      ],
      "metadata": {
        "colab": {
          "base_uri": "https://localhost:8080/"
        },
        "id": "fX2NGvc95h-X",
        "outputId": "3e9ace0d-cec3-421d-b2be-f9acbc7b1207"
      },
      "execution_count": null,
      "outputs": [
        {
          "output_type": "stream",
          "name": "stdout",
          "text": [
            "Using device: cuda\n"
          ]
        }
      ]
    },
    {
      "cell_type": "code",
      "source": [
        "# Sample data with known parameters\n",
        "weight = 0.2\n",
        "bias = 0.9\n",
        "\n",
        "start = 0\n",
        "end = 1\n",
        "step = 0.02\n",
        "\n",
        "X = torch.arange(start, end, step).unsqueeze(dim=1)\n",
        "y = weight * X + bias"
      ],
      "metadata": {
        "id": "vdITqCZv500g"
      },
      "execution_count": null,
      "outputs": []
    },
    {
      "cell_type": "code",
      "source": [
        "# Train test split\n",
        "\n",
        "train_split = int(0.8 * len(X))\n",
        "\n",
        "X_train, y_train = X[:train_split], y[:train_split]\n",
        "X_test, y_test = X[train_split:], y[train_split:]\n",
        "\n",
        "len(X_train), len(y_train), len(X_test), len(y_test)"
      ],
      "metadata": {
        "colab": {
          "base_uri": "https://localhost:8080/"
        },
        "id": "-Xr2avm360Gs",
        "outputId": "1b6a3325-7108-43b9-b020-c182fb6f73ef"
      },
      "execution_count": null,
      "outputs": [
        {
          "output_type": "execute_result",
          "data": {
            "text/plain": [
              "(40, 40, 10, 10)"
            ]
          },
          "metadata": {},
          "execution_count": 123
        }
      ]
    },
    {
      "cell_type": "code",
      "source": [
        "# Plot Predictions\n",
        "\n",
        "def plot_predictions(train_data, train_labels, test_data, test_labels, predictions=None):\n",
        "    \"\"\"\n",
        "    Plots training data, test data and compares predictions.\n",
        "    \"\"\"\n",
        "    plt.figure(figsize=(10, 7))\n",
        "    plt.scatter(train_data, train_labels, c=\"b\", s=4, label = \"Training Data\")\n",
        "    plt.scatter(test_data, test_labels, c=\"y\", s=4, label = \"Testing Data\")\n",
        "    if predictions is not None:\n",
        "        plt.scatter(test_data, predictions, c=\"r\", s=4, label = \"Predictions\")\n",
        "    plt.legend(prop={\"size\": 14})\n",
        "    plt.show()"
      ],
      "metadata": {
        "id": "Fkm2eyt26653"
      },
      "execution_count": null,
      "outputs": []
    },
    {
      "cell_type": "code",
      "source": [
        "plot_predictions(X_train, y_train, X_test, y_test)"
      ],
      "metadata": {
        "colab": {
          "base_uri": "https://localhost:8080/",
          "height": 451
        },
        "id": "xz-uSPuf7Nc2",
        "outputId": "31794eec-9295-4bfb-d987-937629208f26"
      },
      "execution_count": null,
      "outputs": [
        {
          "output_type": "display_data",
          "data": {
            "text/plain": [
              "<Figure size 1000x700 with 1 Axes>"
            ],
            "image/png": "[encoded data removed]"
          },
          "metadata": {}
        }
      ]
    },
    {
      "cell_type": "code",
      "source": [
        "# Creating the model\n",
        "\n",
        "class LinearRegressionModelV2(nn.Module):\n",
        "    def __init__(self):\n",
        "        super().__init__()\n",
        "        # Use nn.Linear() for creating model params # Also called dense, fc, etc\n",
        "        self.linear_layer = nn.Linear(in_features=1, out_features=1)\n",
        "\n",
        "    def forward(self, x: torch.Tensor) -> torch.Tensor:\n",
        "        return self.linear_layer(x)"
      ],
      "metadata": {
        "id": "oMHkdkcu8cYz"
      },
      "execution_count": null,
      "outputs": []
    },
    {
      "cell_type": "code",
      "source": [
        "torch.manual_seed(42)\n",
        "model = LinearRegressionModelV2()\n",
        "model, model.state_dict()"
      ],
      "metadata": {
        "colab": {
          "base_uri": "https://localhost:8080/"
        },
        "id": "HmHfdUT58cry",
        "outputId": "5e9b73b6-9133-4700-8f14-f084ac13f6ca"
      },
      "execution_count": null,
      "outputs": [
        {
          "output_type": "execute_result",
          "data": {
            "text/plain": [
              "(LinearRegressionModelV2(\n",
              "   (linear_layer): Linear(in_features=1, out_features=1, bias=True)\n",
              " ),\n",
              " OrderedDict([('linear_layer.weight', tensor([[0.7645]])),\n",
              "              ('linear_layer.bias', tensor([0.8300]))]))"
            ]
          },
          "metadata": {},
          "execution_count": 127
        }
      ]
    },
    {
      "cell_type": "code",
      "source": [
        "next(model.parameters()).device"
      ],
      "metadata": {
        "colab": {
          "base_uri": "https://localhost:8080/"
        },
        "id": "E1AO7wuU8uny",
        "outputId": "3a84b08a-539a-4bd5-806e-1d191d35285d"
      },
      "execution_count": null,
      "outputs": [
        {
          "output_type": "execute_result",
          "data": {
            "text/plain": [
              "device(type='cpu')"
            ]
          },
          "metadata": {},
          "execution_count": 128
        }
      ]
    },
    {
      "cell_type": "code",
      "source": [
        "# Set model device\n",
        "\n",
        "model.to(device)\n",
        "next(model.parameters()).device"
      ],
      "metadata": {
        "colab": {
          "base_uri": "https://localhost:8080/"
        },
        "id": "db-3Mve-85_y",
        "outputId": "0c04e1ff-91a7-49e5-d5dc-a6d6ab38fa42"
      },
      "execution_count": null,
      "outputs": [
        {
          "output_type": "execute_result",
          "data": {
            "text/plain": [
              "device(type='cuda', index=0)"
            ]
          },
          "metadata": {},
          "execution_count": 129
        }
      ]
    },
    {
      "cell_type": "code",
      "source": [
        "# Setup loss function and optimizer\n",
        "\n",
        "loss_fn = nn.L1Loss()\n",
        "optimizer = torch.optim.SGD(params = model.parameters(), lr = 0.01)"
      ],
      "metadata": {
        "id": "1sbOXQPF9KFO"
      },
      "execution_count": null,
      "outputs": []
    },
    {
      "cell_type": "code",
      "source": [
        "# Training loop\n",
        "\n",
        "epoch_history = []\n",
        "train_loss_history = []\n",
        "test_loss_history = []\n",
        "\n",
        "# Put data on gpu\n",
        "X_train = X_train.to(device)\n",
        "y_train = y_train.to(device)\n",
        "X_test = X_test.to(device)\n",
        "y_test = y_test.to(device)\n",
        "\n",
        "torch.manual_seed(42)\n",
        "epochs = 300\n",
        "\n",
        "for epoch in range(epochs):\n",
        "\n",
        "  model.train()\n",
        "\n",
        "  # Forward pass\n",
        "  y_pred = model(X_train)\n",
        "\n",
        "  # Calculate loss\n",
        "  loss = loss_fn(y_pred, y_train)\n",
        "\n",
        "  # Optimizer zero grad\n",
        "  optimizer.zero_grad()\n",
        "\n",
        "  # Backpropagation\n",
        "  loss.backward()\n",
        "\n",
        "  # Optimizer step\n",
        "  optimizer.step()\n",
        "\n",
        "  ### Testing\n",
        "  model.eval()\n",
        "  with torch.inference_mode():\n",
        "    test_pred = model(X_test)\n",
        "    test_loss = loss_fn(test_pred, y_test)\n",
        "\n",
        "  epoch_history.append(epoch)\n",
        "  train_loss_history.append(loss)\n",
        "  test_loss_history.append(test_loss)\n",
        "\n",
        "  if epoch % 10 == 0:\n",
        "    print(f\"Epoch: {epoch} | Loss: {loss} | Test Loss: {test_loss}\")\n"
      ],
      "metadata": {
        "colab": {
          "base_uri": "https://localhost:8080/"
        },
        "id": "5W61Caun9iWl",
        "outputId": "9c6eec50-c06b-4614-ddf3-42ef16dded6a"
      },
      "execution_count": null,
      "outputs": [
        {
          "output_type": "stream",
          "name": "stdout",
          "text": [
            "Epoch: 0 | Loss: 0.16281987726688385 | Test Loss: 0.4226631224155426\n",
            "Epoch: 10 | Loss: 0.12239959090948105 | Test Loss: 0.3414849042892456\n",
            "Epoch: 20 | Loss: 0.10434450954198837 | Test Loss: 0.28741690516471863\n",
            "Epoch: 30 | Loss: 0.09563804417848587 | Test Loss: 0.25113144516944885\n",
            "Epoch: 40 | Loss: 0.09046975523233414 | Test Loss: 0.22731833159923553\n",
            "Epoch: 50 | Loss: 0.08649741858243942 | Test Loss: 0.2101965993642807\n",
            "Epoch: 60 | Loss: 0.08300741761922836 | Test Loss: 0.19917680323123932\n",
            "Epoch: 70 | Loss: 0.07951740175485611 | Test Loss: 0.18815702199935913\n",
            "Epoch: 80 | Loss: 0.07602738589048386 | Test Loss: 0.17713725566864014\n",
            "Epoch: 90 | Loss: 0.07258857786655426 | Test Loss: 0.168864905834198\n",
            "Epoch: 100 | Loss: 0.06914976239204407 | Test Loss: 0.16059254109859467\n",
            "Epoch: 110 | Loss: 0.06572125107049942 | Test Loss: 0.15300701558589935\n",
            "Epoch: 120 | Loss: 0.0622849240899086 | Test Loss: 0.14473466575145721\n",
            "Epoch: 130 | Loss: 0.05884772539138794 | Test Loss: 0.1371491551399231\n",
            "Epoch: 140 | Loss: 0.05541927367448807 | Test Loss: 0.12887680530548096\n",
            "Epoch: 150 | Loss: 0.051981281489133835 | Test Loss: 0.12060443311929703\n",
            "Epoch: 160 | Loss: 0.04854574427008629 | Test Loss: 0.11301892250776291\n",
            "Epoch: 170 | Loss: 0.04511645436286926 | Test Loss: 0.10474655777215958\n",
            "Epoch: 180 | Loss: 0.04167763516306877 | Test Loss: 0.09647420793771744\n",
            "Epoch: 190 | Loss: 0.03824376314878464 | Test Loss: 0.08888868242502213\n",
            "Epoch: 200 | Loss: 0.034812819212675095 | Test Loss: 0.08061633259057999\n",
            "Epoch: 210 | Loss: 0.03137398883700371 | Test Loss: 0.07234398275613785\n",
            "Epoch: 220 | Loss: 0.027941783890128136 | Test Loss: 0.06475844234228134\n",
            "Epoch: 230 | Loss: 0.024509163573384285 | Test Loss: 0.05648608133196831\n",
            "Epoch: 240 | Loss: 0.02107035182416439 | Test Loss: 0.04821369796991348\n",
            "Epoch: 250 | Loss: 0.01763979345560074 | Test Loss: 0.04062819480895996\n",
            "Epoch: 260 | Loss: 0.014205517247319221 | Test Loss: 0.03235583379864693\n",
            "Epoch: 270 | Loss: 0.010766701772809029 | Test Loss: 0.024083483964204788\n",
            "Epoch: 280 | Loss: 0.007337820716202259 | Test Loss: 0.01649801805615425\n",
            "Epoch: 290 | Loss: 0.003901893040165305 | Test Loss: 0.008225715719163418\n"
          ]
        }
      ]
    },
    {
      "cell_type": "code",
      "source": [
        "model.state_dict()"
      ],
      "metadata": {
        "colab": {
          "base_uri": "https://localhost:8080/"
        },
        "id": "6Js5ZvHicpCK",
        "outputId": "6b1ee877-5e4d-4ab3-a99a-75afc007d32a"
      },
      "execution_count": null,
      "outputs": [
        {
          "output_type": "execute_result",
          "data": {
            "text/plain": [
              "OrderedDict([('linear_layer.weight', tensor([[0.2050]], device='cuda:0')),\n",
              "             ('linear_layer.bias', tensor([0.8910], device='cuda:0'))])"
            ]
          },
          "metadata": {},
          "execution_count": 132
        }
      ]
    },
    {
      "cell_type": "code",
      "source": [
        "weight, bias"
      ],
      "metadata": {
        "colab": {
          "base_uri": "https://localhost:8080/"
        },
        "id": "u6Y5N8-sdWu_",
        "outputId": "67eff285-3f99-44bb-be6e-c7540cf7a3ab"
      },
      "execution_count": null,
      "outputs": [
        {
          "output_type": "execute_result",
          "data": {
            "text/plain": [
              "(0.2, 0.9)"
            ]
          },
          "metadata": {},
          "execution_count": 133
        }
      ]
    },
    {
      "cell_type": "code",
      "source": [
        "plt.plot(epoch_history, np.array(torch.tensor(train_loss_history).cpu().numpy()), label = \"Train Loss\")\n",
        "plt.plot(epoch_history, np.array(torch.tensor(test_loss_history).cpu().numpy()), label = \"Test Loss\")\n",
        "plt.legend()"
      ],
      "metadata": {
        "colab": {
          "base_uri": "https://localhost:8080/",
          "height": 447
        },
        "id": "RzFbIX5_cf4q",
        "outputId": "1c89c990-ec58-4cdc-ba0e-396974f95966"
      },
      "execution_count": null,
      "outputs": [
        {
          "output_type": "execute_result",
          "data": {
            "text/plain": [
              "<matplotlib.legend.Legend at 0x7b673b57c350>"
            ]
          },
          "metadata": {},
          "execution_count": 134
        },
        {
          "output_type": "display_data",
          "data": {
            "text/plain": [
              "<Figure size 640x480 with 1 Axes>"
            ],
            "image/png": "[encoded data removed]"
          },
          "metadata": {}
        }
      ]
    },
    {
      "cell_type": "code",
      "source": [
        "model.eval()\n",
        "with torch.inference_mode():\n",
        "  y_pred = model(X_test)\n"
      ],
      "metadata": {
        "id": "8Oxan8XiclIe"
      },
      "execution_count": null,
      "outputs": []
    },
    {
      "cell_type": "code",
      "source": [
        "plot_predictions(X_train.cpu().numpy(), y_train.cpu().numpy(), X_test.cpu().numpy(), y_test.cpu().numpy(), predictions = np.array(y_pred.cpu().numpy()))"
      ],
      "metadata": {
        "colab": {
          "base_uri": "https://localhost:8080/",
          "height": 451
        },
        "id": "ALMfEN5Ad60a",
        "outputId": "be988b25-d452-4495-8310-8068fa2e55ba"
      },
      "execution_count": null,
      "outputs": [
        {
          "output_type": "display_data",
          "data": {
            "text/plain": [
              "<Figure size 1000x700 with 1 Axes>"
            ],
            "image/png": "[encoded data removed]"
          },
          "metadata": {}
        }
      ]
    },
    {
      "cell_type": "code",
      "source": [
        "model.state_dict()"
      ],
      "metadata": {
        "colab": {
          "base_uri": "https://localhost:8080/"
        },
        "id": "EW91wsVkj0L9",
        "outputId": "2d80f040-131a-430f-ad3f-e33094ce1c76"
      },
      "execution_count": null,
      "outputs": [
        {
          "output_type": "execute_result",
          "data": {
            "text/plain": [
              "OrderedDict([('linear_layer.weight', tensor([[0.2050]], device='cuda:0')),\n",
              "             ('linear_layer.bias', tensor([0.8910], device='cuda:0'))])"
            ]
          },
          "metadata": {},
          "execution_count": 144
        }
      ]
    },
    {
      "cell_type": "code",
      "source": [
        "# Saving and Loading\n",
        "\n",
        "from pathlib import Path\n",
        "\n",
        "MODEL_PATH = Path(\"models\")\n",
        "MODEL_PATH.mkdir(parents=True, exist_ok=True)\n",
        "\n",
        "MODEL_NAME = \"practice_model.pth\"\n",
        "MODEL_SAVE_PATH = MODEL_PATH / MODEL_NAME\n",
        "\n",
        "torch.save(obj = model.state_dict(), f = MODEL_SAVE_PATH)"
      ],
      "metadata": {
        "id": "x7L_Utj4epTF"
      },
      "execution_count": null,
      "outputs": []
    },
    {
      "cell_type": "code",
      "source": [
        "!ls -l models"
      ],
      "metadata": {
        "colab": {
          "base_uri": "https://localhost:8080/"
        },
        "id": "qANdtHXkhTv6",
        "outputId": "a4286fd9-f90d-41f5-a732-69c23b126320"
      },
      "execution_count": null,
      "outputs": [
        {
          "output_type": "stream",
          "name": "stdout",
          "text": [
            "total 4\n",
            "-rw-r--r-- 1 root root 1602 Feb  4 06:04 practice_model.pth\n"
          ]
        }
      ]
    },
    {
      "cell_type": "code",
      "source": [
        "loaded_model = LinearRegressionModelV2()\n",
        "loaded_model.load_state_dict(torch.load(f = MODEL_SAVE_PATH))\n",
        "loaded_model.to(device)\n",
        "\n",
        "loaded_model.state_dict()"
      ],
      "metadata": {
        "colab": {
          "base_uri": "https://localhost:8080/"
        },
        "id": "7eHHTWvzhm9w",
        "outputId": "8b7a137f-c633-4eb2-c6d2-d25c5548af81"
      },
      "execution_count": null,
      "outputs": [
        {
          "output_type": "stream",
          "name": "stderr",
          "text": [
            "<ipython-input-148-192f1e7fe8ca>:2: FutureWarning: You are using `torch.load` with `weights_only=False` (the current default value), which uses the default pickle module implicitly. It is possible to construct malicious pickle data which will execute arbitrary code during unpickling (See https://github.com/pytorch/pytorch/blob/main/SECURITY.md#untrusted-models for more details). In a future release, the default value for `weights_only` will be flipped to `True`. This limits the functions that could be executed during unpickling. Arbitrary objects will no longer be allowed to be loaded via this mode unless they are explicitly allowlisted by the user via `torch.serialization.add_safe_globals`. We recommend you start setting `weights_only=True` for any use case where you don't have full control of the loaded file. Please open an issue on GitHub for any issues related to this experimental feature.\n",
            "  loaded_model.load_state_dict(torch.load(f = MODEL_SAVE_PATH))\n"
          ]
        },
        {
          "output_type": "execute_result",
          "data": {
            "text/plain": [
              "OrderedDict([('linear_layer.weight', tensor([[0.2050]], device='cuda:0')),\n",
              "             ('linear_layer.bias', tensor([0.8910], device='cuda:0'))])"
            ]
          },
          "metadata": {},
          "execution_count": 148
        }
      ]
    },
    {
      "cell_type": "code",
      "source": [
        "loaded_model.eval()\n",
        "with torch.inference_mode():\n",
        "  y_preds = loaded_model(X_test)\n",
        "\n",
        "y_pred == y_preds"
      ],
      "metadata": {
        "colab": {
          "base_uri": "https://localhost:8080/"
        },
        "id": "aGsrvEosh76P",
        "outputId": "762d4f86-5256-4eb8-ac62-4e98a83a28d1"
      },
      "execution_count": null,
      "outputs": [
        {
          "output_type": "execute_result",
          "data": {
            "text/plain": [
              "tensor([[True],\n",
              "        [True],\n",
              "        [True],\n",
              "        [True],\n",
              "        [True],\n",
              "        [True],\n",
              "        [True],\n",
              "        [True],\n",
              "        [True],\n",
              "        [True]], device='cuda:0')"
            ]
          },
          "metadata": {},
          "execution_count": 150
        }
      ]
    },
    {
      "cell_type": "code",
      "source": [],
      "metadata": {
        "id": "P_Y8krM9iIWP"
      },
      "execution_count": null,
      "outputs": []
    }
  ]
}