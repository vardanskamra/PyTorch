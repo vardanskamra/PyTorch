{
  "nbformat": 4,
  "nbformat_minor": 0,
  "metadata": {
    "colab": {
      "provenance": []
    },
    "kernelspec": {
      "name": "python3",
      "display_name": "Python 3"
    },
    "language_info": {
      "name": "python"
    }
  },
  "cells": [
    {
      "cell_type": "code",
      "source": [
        "import torch\n",
        "import pandas as pd\n",
        "import numpy as np\n",
        "import matplotlib.pyplot as plt\n",
        "print(torch.__version__)"
      ],
      "metadata": {
        "colab": {
          "base_uri": "https://localhost:8080/"
        },
        "id": "YSHLM2L6cKcV",
        "outputId": "aaed8fec-940c-4a30-f49e-76e08e615ebe"
      },
      "execution_count": null,
      "outputs": [
        {
          "output_type": "stream",
          "name": "stdout",
          "text": [
            "2.5.1+cu124\n"
          ]
        }
      ]
    },
    {
      "cell_type": "markdown",
      "source": [
        "## Tensors"
      ],
      "metadata": {
        "id": "JM6I4zj6UIDV"
      }
    },
    {
      "cell_type": "code",
      "source": [
        "scalar = torch.tensor(5)\n",
        "print(scalar.ndim)\n",
        "print(scalar.item()) #python int"
      ],
      "metadata": {
        "colab": {
          "base_uri": "https://localhost:8080/"
        },
        "id": "NYWN1VYnT0PR",
        "outputId": "e4924f6c-e3fa-4919-e7b2-7472d0d7196f"
      },
      "execution_count": null,
      "outputs": [
        {
          "output_type": "stream",
          "name": "stdout",
          "text": [
            "0\n",
            "5\n"
          ]
        }
      ]
    },
    {
      "cell_type": "code",
      "source": [
        "vector = torch.tensor([1,2])\n",
        "print(vector.ndim)\n",
        "print(vector.shape)"
      ],
      "metadata": {
        "colab": {
          "base_uri": "https://localhost:8080/"
        },
        "id": "4FjShJVZUDE3",
        "outputId": "da229252-0168-479f-f916-948af0529d91"
      },
      "execution_count": null,
      "outputs": [
        {
          "output_type": "stream",
          "name": "stdout",
          "text": [
            "1\n",
            "torch.Size([2])\n"
          ]
        }
      ]
    },
    {
      "cell_type": "code",
      "source": [
        "MATRIX = torch.tensor([[1,2],[3,4]])\n",
        "print(MATRIX.ndim)\n",
        "print(MATRIX.shape)"
      ],
      "metadata": {
        "colab": {
          "base_uri": "https://localhost:8080/"
        },
        "id": "dGh8Ml3yUW1l",
        "outputId": "8e502ace-9adb-4231-903a-4d4b036f0cc1"
      },
      "execution_count": null,
      "outputs": [
        {
          "output_type": "stream",
          "name": "stdout",
          "text": [
            "2\n",
            "torch.Size([2, 2])\n"
          ]
        }
      ]
    },
    {
      "cell_type": "code",
      "source": [
        "TENSOR = torch.tensor([[[1,2,3], [4,5,6], [7,8,9]]])\n",
        "print(TENSOR.ndim)\n",
        "print(TENSOR.shape)"
      ],
      "metadata": {
        "colab": {
          "base_uri": "https://localhost:8080/"
        },
        "id": "22PGX09bUe9F",
        "outputId": "8c218602-b1ec-42de-ac5b-23c7d3392440"
      },
      "execution_count": null,
      "outputs": [
        {
          "output_type": "stream",
          "name": "stdout",
          "text": [
            "3\n",
            "torch.Size([1, 3, 3])\n"
          ]
        }
      ]
    },
    {
      "cell_type": "markdown",
      "source": [
        "## Random Tensor"
      ],
      "metadata": {
        "id": "2ZL3Yi8ZWcp-"
      }
    },
    {
      "cell_type": "code",
      "source": [
        "random_tensor = torch.rand(size=(3, 4, 5))\n",
        "print(random_tensor.dtype) #deafult is float32\n",
        "random_tensor"
      ],
      "metadata": {
        "colab": {
          "base_uri": "https://localhost:8080/"
        },
        "id": "P0CHny8GUwfL",
        "outputId": "463c78cd-6a03-4956-dea1-201231458a89"
      },
      "execution_count": null,
      "outputs": [
        {
          "output_type": "stream",
          "name": "stdout",
          "text": [
            "torch.float32\n"
          ]
        },
        {
          "output_type": "execute_result",
          "data": {
            "text/plain": [
              "tensor([[[0.6911, 0.1069, 0.0724, 0.3907, 0.4336],\n",
              "         [0.8064, 0.4750, 0.8217, 0.7795, 0.1267],\n",
              "         [0.6605, 0.3173, 0.0203, 0.7254, 0.8942],\n",
              "         [0.8080, 0.4985, 0.5169, 0.5292, 0.9619]],\n",
              "\n",
              "        [[0.1449, 0.1932, 0.1917, 0.8675, 0.3733],\n",
              "         [0.8026, 0.2773, 0.3358, 0.8137, 0.2311],\n",
              "         [0.2099, 0.9394, 0.0568, 0.2975, 0.5876],\n",
              "         [0.2661, 0.7114, 0.6820, 0.0858, 0.4019]],\n",
              "\n",
              "        [[0.9727, 0.1632, 0.9795, 0.7074, 0.3520],\n",
              "         [0.8169, 0.7634, 0.7523, 0.7895, 0.5567],\n",
              "         [0.4425, 0.7151, 0.0885, 0.1523, 0.2546],\n",
              "         [0.5488, 0.9412, 0.2176, 0.1257, 0.3787]]])"
            ]
          },
          "metadata": {},
          "execution_count": 8
        }
      ]
    },
    {
      "cell_type": "code",
      "source": [
        "zeros = torch.zeros(size=(4,4))\n",
        "zeros"
      ],
      "metadata": {
        "colab": {
          "base_uri": "https://localhost:8080/"
        },
        "id": "KdFLPZp6Wu6w",
        "outputId": "d5da5427-9488-4a88-82a4-d5be40eb45d6"
      },
      "execution_count": null,
      "outputs": [
        {
          "output_type": "execute_result",
          "data": {
            "text/plain": [
              "tensor([[0., 0., 0., 0.],\n",
              "        [0., 0., 0., 0.],\n",
              "        [0., 0., 0., 0.],\n",
              "        [0., 0., 0., 0.]])"
            ]
          },
          "metadata": {},
          "execution_count": 9
        }
      ]
    },
    {
      "cell_type": "code",
      "source": [
        "ones = torch.ones(size=(2,4,4))\n",
        "ones"
      ],
      "metadata": {
        "colab": {
          "base_uri": "https://localhost:8080/"
        },
        "id": "iTGoP7eoXlgS",
        "outputId": "818a9ecc-150e-4045-8bf7-7c3075301dfc"
      },
      "execution_count": null,
      "outputs": [
        {
          "output_type": "execute_result",
          "data": {
            "text/plain": [
              "tensor([[[1., 1., 1., 1.],\n",
              "         [1., 1., 1., 1.],\n",
              "         [1., 1., 1., 1.],\n",
              "         [1., 1., 1., 1.]],\n",
              "\n",
              "        [[1., 1., 1., 1.],\n",
              "         [1., 1., 1., 1.],\n",
              "         [1., 1., 1., 1.],\n",
              "         [1., 1., 1., 1.]]])"
            ]
          },
          "metadata": {},
          "execution_count": 10
        }
      ]
    },
    {
      "cell_type": "markdown",
      "source": [
        "## Range of Tensors and Tensor-Like\n"
      ],
      "metadata": {
        "id": "IdFrRT42CQ9T"
      }
    },
    {
      "cell_type": "code",
      "source": [
        "one_to_ten = torch.arange(start = 1, end = 11, step = 2)\n",
        "one_to_ten"
      ],
      "metadata": {
        "colab": {
          "base_uri": "https://localhost:8080/"
        },
        "id": "Lm7lOxP1Cb6T",
        "outputId": "ac805587-ce13-4cd5-8371-90dff6b024a8"
      },
      "execution_count": null,
      "outputs": [
        {
          "output_type": "execute_result",
          "data": {
            "text/plain": [
              "tensor([1, 3, 5, 7, 9])"
            ]
          },
          "metadata": {},
          "execution_count": 11
        }
      ]
    },
    {
      "cell_type": "code",
      "source": [
        "five_zeros = torch.zeros_like(input = one_to_ten) # input refers to target tensor shape reference\n",
        "five_zeros"
      ],
      "metadata": {
        "colab": {
          "base_uri": "https://localhost:8080/"
        },
        "id": "v8Xv_PzSDF2L",
        "outputId": "172b20e2-9f63-455b-b064-96cf6fd17b2d"
      },
      "execution_count": null,
      "outputs": [
        {
          "output_type": "execute_result",
          "data": {
            "text/plain": [
              "tensor([0, 0, 0, 0, 0])"
            ]
          },
          "metadata": {},
          "execution_count": 12
        }
      ]
    },
    {
      "cell_type": "code",
      "source": [
        "five_ones = torch.ones_like(input = one_to_ten)\n",
        "five_ones"
      ],
      "metadata": {
        "colab": {
          "base_uri": "https://localhost:8080/"
        },
        "id": "pRyJe-wjDOZA",
        "outputId": "eef2ad85-e768-46ff-bcb9-487c3f7dde47"
      },
      "execution_count": null,
      "outputs": [
        {
          "output_type": "execute_result",
          "data": {
            "text/plain": [
              "tensor([1, 1, 1, 1, 1])"
            ]
          },
          "metadata": {},
          "execution_count": 13
        }
      ]
    },
    {
      "cell_type": "markdown",
      "source": [
        "## Tensor Data Types"
      ],
      "metadata": {
        "id": "kSsopVKfDqaL"
      }
    },
    {
      "cell_type": "markdown",
      "source": [
        "Tensors must have same device and data type to be operated together. (And valid dimensions)"
      ],
      "metadata": {
        "id": "nxNnL4iFdQ1F"
      }
    },
    {
      "cell_type": "code",
      "source": [
        "f32_tensor = torch.tensor([3.0, 4.0, 5.0],\n",
        "                          dtype = None, # tensor data type\n",
        "                          device = 'cpu', # device tensor is on\n",
        "                          requires_grad = False) # track gradients?\n",
        "f32_tensor.dtype"
      ],
      "metadata": {
        "id": "KkWtfCmVDnW6",
        "colab": {
          "base_uri": "https://localhost:8080/"
        },
        "outputId": "22acb39d-e9db-443d-c67d-99d5eb7be58e"
      },
      "execution_count": null,
      "outputs": [
        {
          "output_type": "execute_result",
          "data": {
            "text/plain": [
              "torch.float32"
            ]
          },
          "metadata": {},
          "execution_count": 14
        }
      ]
    },
    {
      "cell_type": "code",
      "source": [
        "f16_tensor = torch.tensor([3, 5, 7],\n",
        "                          dtype = torch.float16,\n",
        "                          device = 'cpu')\n",
        "print(f16_tensor.dtype)\n",
        "print(f16_tensor.shape)\n",
        "print(f16_tensor.device)"
      ],
      "metadata": {
        "colab": {
          "base_uri": "https://localhost:8080/"
        },
        "id": "09Ppb9XYdEbO",
        "outputId": "5e0f4b69-90dc-4eb2-85d4-c17d5ef81654"
      },
      "execution_count": null,
      "outputs": [
        {
          "output_type": "stream",
          "name": "stdout",
          "text": [
            "torch.float16\n",
            "torch.Size([3])\n",
            "cpu\n"
          ]
        }
      ]
    },
    {
      "cell_type": "markdown",
      "source": [
        "## Operations on Tensors"
      ],
      "metadata": {
        "id": "t9yX4cCeTm8F"
      }
    },
    {
      "cell_type": "code",
      "source": [
        "tensor = torch.tensor([1,2,3])\n",
        "tensor + 10"
      ],
      "metadata": {
        "colab": {
          "base_uri": "https://localhost:8080/"
        },
        "id": "BRH-6Ae1dmXQ",
        "outputId": "5b2b86d1-ca14-4d71-cb99-f8906c12cffb"
      },
      "execution_count": null,
      "outputs": [
        {
          "output_type": "execute_result",
          "data": {
            "text/plain": [
              "tensor([11, 12, 13])"
            ]
          },
          "metadata": {},
          "execution_count": 16
        }
      ]
    },
    {
      "cell_type": "code",
      "source": [
        "torch.add(tensor,10)"
      ],
      "metadata": {
        "colab": {
          "base_uri": "https://localhost:8080/"
        },
        "id": "CgvpTBpsVHxp",
        "outputId": "b33d66e7-da6b-48bd-ad98-6397e57629f9"
      },
      "execution_count": null,
      "outputs": [
        {
          "output_type": "execute_result",
          "data": {
            "text/plain": [
              "tensor([11, 12, 13])"
            ]
          },
          "metadata": {},
          "execution_count": 17
        }
      ]
    },
    {
      "cell_type": "code",
      "source": [
        "tensor2 = torch.tensor([4,5,6])\n",
        "tensor + tensor2"
      ],
      "metadata": {
        "colab": {
          "base_uri": "https://localhost:8080/"
        },
        "id": "NXArabcHVeYl",
        "outputId": "d005c467-5213-4244-af17-3352667e29cf"
      },
      "execution_count": null,
      "outputs": [
        {
          "output_type": "execute_result",
          "data": {
            "text/plain": [
              "tensor([5, 7, 9])"
            ]
          },
          "metadata": {},
          "execution_count": 18
        }
      ]
    },
    {
      "cell_type": "code",
      "source": [
        "torch.mul(tensor, 10)"
      ],
      "metadata": {
        "colab": {
          "base_uri": "https://localhost:8080/"
        },
        "id": "NUGgvDLIVQsI",
        "outputId": "c342d0d8-88fb-4d45-efed-6cd42b8d0165"
      },
      "execution_count": null,
      "outputs": [
        {
          "output_type": "execute_result",
          "data": {
            "text/plain": [
              "tensor([10, 20, 30])"
            ]
          },
          "metadata": {},
          "execution_count": 19
        }
      ]
    },
    {
      "cell_type": "code",
      "source": [
        "torch.mul(tensor, tensor2)"
      ],
      "metadata": {
        "colab": {
          "base_uri": "https://localhost:8080/"
        },
        "id": "cm1ajTrCVbun",
        "outputId": "29947333-448a-4ed6-cc75-2efe7728f6c3"
      },
      "execution_count": null,
      "outputs": [
        {
          "output_type": "execute_result",
          "data": {
            "text/plain": [
              "tensor([ 4, 10, 18])"
            ]
          },
          "metadata": {},
          "execution_count": 20
        }
      ]
    },
    {
      "cell_type": "code",
      "source": [
        "tensor * tensor2"
      ],
      "metadata": {
        "colab": {
          "base_uri": "https://localhost:8080/"
        },
        "id": "d96rS4wCXBa2",
        "outputId": "57768c85-ca6f-4787-cada-355aa3493f22"
      },
      "execution_count": null,
      "outputs": [
        {
          "output_type": "execute_result",
          "data": {
            "text/plain": [
              "tensor([ 4, 10, 18])"
            ]
          },
          "metadata": {},
          "execution_count": 21
        }
      ]
    },
    {
      "cell_type": "markdown",
      "source": [
        "### Matmul"
      ],
      "metadata": {
        "id": "qJ4LPOrSaqw_"
      }
    },
    {
      "cell_type": "code",
      "source": [
        "torch.matmul(tensor, tensor2) # 1D and 1D would be dot product (single number)"
      ],
      "metadata": {
        "colab": {
          "base_uri": "https://localhost:8080/"
        },
        "id": "nbuhkKkfXEZE",
        "outputId": "6d4ce7c9-43d5-49c6-9fbd-9545dd6f17d0"
      },
      "execution_count": null,
      "outputs": [
        {
          "output_type": "execute_result",
          "data": {
            "text/plain": [
              "tensor(32)"
            ]
          },
          "metadata": {},
          "execution_count": 22
        }
      ]
    },
    {
      "cell_type": "code",
      "source": [
        "tensor3 = torch.tensor([[1,2],[3,4]])\n",
        "tensor4 = torch.tensor([[5,6],[7,8]])\n",
        "\n",
        "print(torch.matmul(tensor3, tensor4)) # 2x2 and 2x2 make a 2x2 matrix\n",
        "\n",
        "torch.mul(tensor3, tensor4) # 2x2 matrix element-wise\n"
      ],
      "metadata": {
        "colab": {
          "base_uri": "https://localhost:8080/"
        },
        "id": "ARuJyWeeXfqZ",
        "outputId": "b26f0232-72ec-4eab-c11d-8b34f81dbfb7"
      },
      "execution_count": null,
      "outputs": [
        {
          "output_type": "stream",
          "name": "stdout",
          "text": [
            "tensor([[19, 22],\n",
            "        [43, 50]])\n"
          ]
        },
        {
          "output_type": "execute_result",
          "data": {
            "text/plain": [
              "tensor([[ 5, 12],\n",
              "        [21, 32]])"
            ]
          },
          "metadata": {},
          "execution_count": 23
        }
      ]
    },
    {
      "cell_type": "code",
      "source": [
        "torch.matmul(torch.rand(3,4), torch.rand(4,5)) # results in 3x5 matrix\n",
        "#shapes must allign, the columns of A must bee same as rows of B"
      ],
      "metadata": {
        "colab": {
          "base_uri": "https://localhost:8080/"
        },
        "id": "ZjfmR0nvYHvP",
        "outputId": "f44972f8-3cc6-41ab-864e-842f412c5f0f"
      },
      "execution_count": null,
      "outputs": [
        {
          "output_type": "execute_result",
          "data": {
            "text/plain": [
              "tensor([[0.7780, 1.5254, 2.2823, 1.5050, 0.8163],\n",
              "        [0.7239, 1.3859, 1.9374, 1.2801, 0.8158],\n",
              "        [0.7976, 0.7292, 1.0635, 0.8299, 0.6483]])"
            ]
          },
          "metadata": {},
          "execution_count": 24
        }
      ]
    },
    {
      "cell_type": "code",
      "source": [
        "torch.mm(torch.rand(3,4), torch.rand(4,5)) # same as matmul"
      ],
      "metadata": {
        "colab": {
          "base_uri": "https://localhost:8080/"
        },
        "id": "JCg69-YGYuvP",
        "outputId": "0c865a3c-0849-47b9-c456-a5154081f81a"
      },
      "execution_count": null,
      "outputs": [
        {
          "output_type": "execute_result",
          "data": {
            "text/plain": [
              "tensor([[1.1899, 0.6884, 1.9012, 0.9809, 1.7741],\n",
              "        [0.9656, 0.4833, 1.1900, 0.9262, 1.6177],\n",
              "        [1.0525, 0.5247, 1.4277, 0.6684, 1.3629]])"
            ]
          },
          "metadata": {},
          "execution_count": 25
        }
      ]
    },
    {
      "cell_type": "markdown",
      "source": [
        "### Transpose"
      ],
      "metadata": {
        "id": "sDTm7QNPanxW"
      }
    },
    {
      "cell_type": "code",
      "source": [
        "tensor5 = torch.rand(3,5)\n",
        "tensor6 = torch.rand(3,5)\n",
        "# Cant multiply them\n",
        "\n",
        "print(tensor5)\n",
        "print(tensor6)"
      ],
      "metadata": {
        "colab": {
          "base_uri": "https://localhost:8080/"
        },
        "id": "wpLQTXWyZFMX",
        "outputId": "8b9d9dfb-6061-444d-e5ac-e1abbce869b6"
      },
      "execution_count": null,
      "outputs": [
        {
          "output_type": "stream",
          "name": "stdout",
          "text": [
            "tensor([[0.2891, 0.2757, 0.2576, 0.3230, 0.5473],\n",
            "        [0.4717, 0.0022, 0.4191, 0.0635, 0.4203],\n",
            "        [0.4622, 0.6599, 0.0283, 0.0991, 0.5727]])\n",
            "tensor([[0.3142, 0.6761, 0.5676, 0.4364, 0.3819],\n",
            "        [0.0463, 0.5624, 0.9928, 0.1261, 0.2062],\n",
            "        [0.1985, 0.3800, 0.6589, 0.6058, 0.9013]])\n"
          ]
        }
      ]
    },
    {
      "cell_type": "code",
      "source": [
        "tensor5*tensor6 # element wise must need same shape"
      ],
      "metadata": {
        "colab": {
          "base_uri": "https://localhost:8080/"
        },
        "id": "E8e3O6fHZvlc",
        "outputId": "74590643-1476-4fbe-e3ef-da67f17057fd"
      },
      "execution_count": null,
      "outputs": [
        {
          "output_type": "execute_result",
          "data": {
            "text/plain": [
              "tensor([[0.0909, 0.1864, 0.1462, 0.1410, 0.2090],\n",
              "        [0.0218, 0.0012, 0.4161, 0.0080, 0.0867],\n",
              "        [0.0917, 0.2508, 0.0187, 0.0600, 0.5162]])"
            ]
          },
          "metadata": {},
          "execution_count": 27
        }
      ]
    },
    {
      "cell_type": "code",
      "source": [
        "# But for matmul, Transpose is required\n",
        "print(tensor6.shape)\n",
        "print(tensor6.T.shape)\n",
        "\n",
        "torch.matmul(tensor5, tensor6.T) # 3x3"
      ],
      "metadata": {
        "colab": {
          "base_uri": "https://localhost:8080/"
        },
        "id": "Oy9XJ996aA4p",
        "outputId": "b7dc4d2f-c8a0-41d0-feac-e57dbcef650c"
      },
      "execution_count": null,
      "outputs": [
        {
          "output_type": "stream",
          "name": "stdout",
          "text": [
            "torch.Size([3, 5])\n",
            "torch.Size([5, 3])\n"
          ]
        },
        {
          "output_type": "execute_result",
          "data": {
            "text/plain": [
              "tensor([[0.7735, 0.5778, 1.0209],\n",
              "        [0.5758, 0.5338, 0.7879],\n",
              "        [0.8694, 0.5512, 0.9374]])"
            ]
          },
          "metadata": {},
          "execution_count": 28
        }
      ]
    },
    {
      "cell_type": "markdown",
      "source": [
        "## Tensor Aggregations"
      ],
      "metadata": {
        "id": "K8y1EOmwnMgD"
      }
    },
    {
      "cell_type": "code",
      "source": [
        "tensor = torch.rand(20) * 100\n",
        "tensor"
      ],
      "metadata": {
        "colab": {
          "base_uri": "https://localhost:8080/"
        },
        "id": "_7b442GeaE5S",
        "outputId": "967de536-1cae-4932-c4e7-242bed247b01"
      },
      "execution_count": null,
      "outputs": [
        {
          "output_type": "execute_result",
          "data": {
            "text/plain": [
              "tensor([55.5264, 43.3596, 26.5226, 54.9240, 27.2781, 68.2043, 24.7939, 88.6487,\n",
              "        30.7357, 50.0397, 57.3596, 40.6783, 48.8555, 70.3824, 90.0316, 49.1853,\n",
              "        50.4805, 22.2708,  6.0401,  6.8605])"
            ]
          },
          "metadata": {},
          "execution_count": 29
        }
      ]
    },
    {
      "cell_type": "code",
      "source": [
        "tensor.max(), torch.max(tensor)"
      ],
      "metadata": {
        "colab": {
          "base_uri": "https://localhost:8080/"
        },
        "id": "R6QWSo2vnWHM",
        "outputId": "89e93cad-c15e-484b-de8d-68776d44b497"
      },
      "execution_count": null,
      "outputs": [
        {
          "output_type": "execute_result",
          "data": {
            "text/plain": [
              "(tensor(90.0316), tensor(90.0316))"
            ]
          },
          "metadata": {},
          "execution_count": 30
        }
      ]
    },
    {
      "cell_type": "code",
      "source": [
        "tensor.min(), torch.min(tensor)"
      ],
      "metadata": {
        "colab": {
          "base_uri": "https://localhost:8080/"
        },
        "id": "NVMaZt7LngGF",
        "outputId": "52aa95b6-4df9-4a31-8713-f208226c51a1"
      },
      "execution_count": null,
      "outputs": [
        {
          "output_type": "execute_result",
          "data": {
            "text/plain": [
              "(tensor(6.0401), tensor(6.0401))"
            ]
          },
          "metadata": {},
          "execution_count": 31
        }
      ]
    },
    {
      "cell_type": "code",
      "source": [
        "tensor.mean(), torch.mean(tensor) # dtype must be float32"
      ],
      "metadata": {
        "colab": {
          "base_uri": "https://localhost:8080/"
        },
        "id": "jAjRm5ADnlb-",
        "outputId": "2a91bfbe-cf59-4504-d3ac-1d734e6e15a1"
      },
      "execution_count": null,
      "outputs": [
        {
          "output_type": "execute_result",
          "data": {
            "text/plain": [
              "(tensor(45.6089), tensor(45.6089))"
            ]
          },
          "metadata": {},
          "execution_count": 32
        }
      ]
    },
    {
      "cell_type": "code",
      "source": [
        "tensor.sum(), torch.sum(tensor)"
      ],
      "metadata": {
        "colab": {
          "base_uri": "https://localhost:8080/"
        },
        "id": "LJ_inS0gnoMP",
        "outputId": "8a546fe6-47aa-4859-9137-e2a2fdb41bac"
      },
      "execution_count": null,
      "outputs": [
        {
          "output_type": "execute_result",
          "data": {
            "text/plain": [
              "(tensor(912.1777), tensor(912.1777))"
            ]
          },
          "metadata": {},
          "execution_count": 33
        }
      ]
    },
    {
      "cell_type": "code",
      "source": [
        "tensor.argmin() # index of min loaction"
      ],
      "metadata": {
        "colab": {
          "base_uri": "https://localhost:8080/"
        },
        "id": "ijKZOUP7nryn",
        "outputId": "96e14c91-8e38-4d37-e711-ae8dca9f8f85"
      },
      "execution_count": null,
      "outputs": [
        {
          "output_type": "execute_result",
          "data": {
            "text/plain": [
              "tensor(18)"
            ]
          },
          "metadata": {},
          "execution_count": 34
        }
      ]
    },
    {
      "cell_type": "code",
      "source": [
        "tensor.argmax()"
      ],
      "metadata": {
        "colab": {
          "base_uri": "https://localhost:8080/"
        },
        "id": "pGrr4RzirgXJ",
        "outputId": "d986b53e-7371-4a3d-effa-45943ade9545"
      },
      "execution_count": null,
      "outputs": [
        {
          "output_type": "execute_result",
          "data": {
            "text/plain": [
              "tensor(14)"
            ]
          },
          "metadata": {},
          "execution_count": 35
        }
      ]
    },
    {
      "cell_type": "markdown",
      "source": [
        "## Reshaping"
      ],
      "metadata": {
        "id": "sJD9ARbUrwJg"
      }
    },
    {
      "cell_type": "code",
      "source": [
        "tensor = torch.rand(3,4) # 3x4 - 12\n",
        "tensor, tensor.shape"
      ],
      "metadata": {
        "colab": {
          "base_uri": "https://localhost:8080/"
        },
        "id": "-dJVNVRvrhoX",
        "outputId": "74815e5a-1b6f-47b6-c9a5-9d2153310ccd"
      },
      "execution_count": null,
      "outputs": [
        {
          "output_type": "execute_result",
          "data": {
            "text/plain": [
              "(tensor([[0.2192, 0.5963, 0.9382, 0.3060],\n",
              "         [0.2966, 0.8725, 0.9057, 0.3185],\n",
              "         [0.3196, 0.0035, 0.0976, 0.3816]]),\n",
              " torch.Size([3, 4]))"
            ]
          },
          "metadata": {},
          "execution_count": 36
        }
      ]
    },
    {
      "cell_type": "code",
      "source": [
        "reshaped_tensor = tensor.reshape(2,6) # not inplace\n",
        "reshaped_tensor, reshaped_tensor.shape"
      ],
      "metadata": {
        "colab": {
          "base_uri": "https://localhost:8080/"
        },
        "id": "i5q7k946r5VV",
        "outputId": "396351e0-82e5-458d-f6c2-2f76ed0800db"
      },
      "execution_count": null,
      "outputs": [
        {
          "output_type": "execute_result",
          "data": {
            "text/plain": [
              "(tensor([[0.2192, 0.5963, 0.9382, 0.3060, 0.2966, 0.8725],\n",
              "         [0.9057, 0.3185, 0.3196, 0.0035, 0.0976, 0.3816]]),\n",
              " torch.Size([2, 6]))"
            ]
          },
          "metadata": {},
          "execution_count": 37
        }
      ]
    },
    {
      "cell_type": "code",
      "source": [
        "tensor.reshape(1,12)"
      ],
      "metadata": {
        "colab": {
          "base_uri": "https://localhost:8080/"
        },
        "id": "Mi1oXt_DsBsr",
        "outputId": "0fbbdd01-e40b-4a7a-d895-733a5689acb0"
      },
      "execution_count": null,
      "outputs": [
        {
          "output_type": "execute_result",
          "data": {
            "text/plain": [
              "tensor([[0.2192, 0.5963, 0.9382, 0.3060, 0.2966, 0.8725, 0.9057, 0.3185, 0.3196,\n",
              "         0.0035, 0.0976, 0.3816]])"
            ]
          },
          "metadata": {},
          "execution_count": 38
        }
      ]
    },
    {
      "cell_type": "code",
      "source": [
        "tensor.reshape(12,1)"
      ],
      "metadata": {
        "colab": {
          "base_uri": "https://localhost:8080/"
        },
        "id": "o7-uizc2sPrK",
        "outputId": "2de47e21-100d-4ba8-ba4e-466c0680e960"
      },
      "execution_count": null,
      "outputs": [
        {
          "output_type": "execute_result",
          "data": {
            "text/plain": [
              "tensor([[0.2192],\n",
              "        [0.5963],\n",
              "        [0.9382],\n",
              "        [0.3060],\n",
              "        [0.2966],\n",
              "        [0.8725],\n",
              "        [0.9057],\n",
              "        [0.3185],\n",
              "        [0.3196],\n",
              "        [0.0035],\n",
              "        [0.0976],\n",
              "        [0.3816]])"
            ]
          },
          "metadata": {},
          "execution_count": 39
        }
      ]
    },
    {
      "cell_type": "markdown",
      "source": [
        "### View"
      ],
      "metadata": {
        "id": "zm9AqdlsuPRR"
      }
    },
    {
      "cell_type": "code",
      "source": [
        "# A view of tensor shares same memory as tensor\n",
        "\n",
        "x = tensor.view(1, 12)\n",
        "x, x.shape"
      ],
      "metadata": {
        "colab": {
          "base_uri": "https://localhost:8080/"
        },
        "id": "5d_EJa-OsTju",
        "outputId": "5548e7ad-f82a-415a-8ef1-46cd59d25907"
      },
      "execution_count": null,
      "outputs": [
        {
          "output_type": "execute_result",
          "data": {
            "text/plain": [
              "(tensor([[0.2192, 0.5963, 0.9382, 0.3060, 0.2966, 0.8725, 0.9057, 0.3185, 0.3196,\n",
              "          0.0035, 0.0976, 0.3816]]),\n",
              " torch.Size([1, 12]))"
            ]
          },
          "metadata": {},
          "execution_count": 40
        }
      ]
    },
    {
      "cell_type": "code",
      "source": [
        "x[:, 0] = 5 # changing one, changes other\n",
        "x, tensor"
      ],
      "metadata": {
        "colab": {
          "base_uri": "https://localhost:8080/"
        },
        "id": "9g8OeMM7syxm",
        "outputId": "6c4f8c78-a86b-453c-adfd-235d92b86809"
      },
      "execution_count": null,
      "outputs": [
        {
          "output_type": "execute_result",
          "data": {
            "text/plain": [
              "(tensor([[5.0000e+00, 5.9632e-01, 9.3819e-01, 3.0596e-01, 2.9658e-01, 8.7252e-01,\n",
              "          9.0565e-01, 3.1846e-01, 3.1959e-01, 3.4550e-03, 9.7637e-02, 3.8158e-01]]),\n",
              " tensor([[5.0000e+00, 5.9632e-01, 9.3819e-01, 3.0596e-01],\n",
              "         [2.9658e-01, 8.7252e-01, 9.0565e-01, 3.1846e-01],\n",
              "         [3.1959e-01, 3.4550e-03, 9.7637e-02, 3.8158e-01]]))"
            ]
          },
          "metadata": {},
          "execution_count": 41
        }
      ]
    },
    {
      "cell_type": "markdown",
      "source": [
        "### Stacking"
      ],
      "metadata": {
        "id": "R0EYz0imuQ6E"
      }
    },
    {
      "cell_type": "code",
      "source": [
        "tensor = torch.arange(0,10)\n",
        "tensor, tensor.shape"
      ],
      "metadata": {
        "colab": {
          "base_uri": "https://localhost:8080/"
        },
        "id": "PK-CZSp_s_pt",
        "outputId": "3be981a4-a63f-4a2f-ac28-60fadd925c14"
      },
      "execution_count": null,
      "outputs": [
        {
          "output_type": "execute_result",
          "data": {
            "text/plain": [
              "(tensor([0, 1, 2, 3, 4, 5, 6, 7, 8, 9]), torch.Size([10]))"
            ]
          },
          "metadata": {},
          "execution_count": 42
        }
      ]
    },
    {
      "cell_type": "code",
      "source": [
        "vstack = torch.stack([tensor, tensor, tensor], dim = 0) # vertical stacking\n",
        "vstack, vstack.shape"
      ],
      "metadata": {
        "colab": {
          "base_uri": "https://localhost:8080/"
        },
        "id": "Fm8MhyrlucFx",
        "outputId": "b1cebd66-a252-4a46-9603-519f653b7df1"
      },
      "execution_count": null,
      "outputs": [
        {
          "output_type": "execute_result",
          "data": {
            "text/plain": [
              "(tensor([[0, 1, 2, 3, 4, 5, 6, 7, 8, 9],\n",
              "         [0, 1, 2, 3, 4, 5, 6, 7, 8, 9],\n",
              "         [0, 1, 2, 3, 4, 5, 6, 7, 8, 9]]),\n",
              " torch.Size([3, 10]))"
            ]
          },
          "metadata": {},
          "execution_count": 43
        }
      ]
    },
    {
      "cell_type": "code",
      "source": [
        "hstack = torch.stack([tensor, tensor, tensor], dim = 1) # horizontal stacking\n",
        "hstack, hstack.shape"
      ],
      "metadata": {
        "colab": {
          "base_uri": "https://localhost:8080/"
        },
        "id": "GR7E-81fukki",
        "outputId": "f416ad19-f572-4013-9a79-fa9a78183e94"
      },
      "execution_count": null,
      "outputs": [
        {
          "output_type": "execute_result",
          "data": {
            "text/plain": [
              "(tensor([[0, 0, 0],\n",
              "         [1, 1, 1],\n",
              "         [2, 2, 2],\n",
              "         [3, 3, 3],\n",
              "         [4, 4, 4],\n",
              "         [5, 5, 5],\n",
              "         [6, 6, 6],\n",
              "         [7, 7, 7],\n",
              "         [8, 8, 8],\n",
              "         [9, 9, 9]]),\n",
              " torch.Size([10, 3]))"
            ]
          },
          "metadata": {},
          "execution_count": 44
        }
      ]
    },
    {
      "cell_type": "code",
      "source": [
        "torch.vstack([tensor, tensor, tensor])"
      ],
      "metadata": {
        "colab": {
          "base_uri": "https://localhost:8080/"
        },
        "id": "aBoYP3W1unNg",
        "outputId": "199d2e5d-29ca-41e1-bbae-f8bf570d880c"
      },
      "execution_count": null,
      "outputs": [
        {
          "output_type": "execute_result",
          "data": {
            "text/plain": [
              "tensor([[0, 1, 2, 3, 4, 5, 6, 7, 8, 9],\n",
              "        [0, 1, 2, 3, 4, 5, 6, 7, 8, 9],\n",
              "        [0, 1, 2, 3, 4, 5, 6, 7, 8, 9]])"
            ]
          },
          "metadata": {},
          "execution_count": 45
        }
      ]
    },
    {
      "cell_type": "code",
      "source": [
        "torch.hstack([tensor, tensor, tensor])\n"
      ],
      "metadata": {
        "colab": {
          "base_uri": "https://localhost:8080/"
        },
        "id": "6VGCkfayu8Hj",
        "outputId": "7010133c-72a7-4631-a5a6-711c78e98454"
      },
      "execution_count": null,
      "outputs": [
        {
          "output_type": "execute_result",
          "data": {
            "text/plain": [
              "tensor([0, 1, 2, 3, 4, 5, 6, 7, 8, 9, 0, 1, 2, 3, 4, 5, 6, 7, 8, 9, 0, 1, 2, 3,\n",
              "        4, 5, 6, 7, 8, 9])"
            ]
          },
          "metadata": {},
          "execution_count": 46
        }
      ]
    },
    {
      "cell_type": "markdown",
      "source": [
        "### Squeeze and Unsqueeze"
      ],
      "metadata": {
        "id": "nuAWd_o620QG"
      }
    },
    {
      "cell_type": "code",
      "source": [
        "tensor = torch.rand(1,1,5)\n",
        "print(tensor)\n",
        "\n",
        "squeezed = tensor.squeeze() # remove single dims (not inplace)\n",
        "print(squeezed)\n",
        "\n",
        "torch.squeeze(tensor) # same as tensor.squeeze()"
      ],
      "metadata": {
        "colab": {
          "base_uri": "https://localhost:8080/"
        },
        "id": "PKkT0y4CvFv9",
        "outputId": "5eb9702d-ee97-4150-c781-2431aa10e0a1"
      },
      "execution_count": null,
      "outputs": [
        {
          "output_type": "stream",
          "name": "stdout",
          "text": [
            "tensor([[[0.9310, 0.3042, 0.2726, 0.6273, 0.4811]]])\n",
            "tensor([0.9310, 0.3042, 0.2726, 0.6273, 0.4811])\n"
          ]
        },
        {
          "output_type": "execute_result",
          "data": {
            "text/plain": [
              "tensor([0.9310, 0.3042, 0.2726, 0.6273, 0.4811])"
            ]
          },
          "metadata": {},
          "execution_count": 50
        }
      ]
    },
    {
      "cell_type": "code",
      "source": [
        "print(squeezed.shape)\n",
        "torch.unsqueeze(squeezed, dim = 0) # add single dim"
      ],
      "metadata": {
        "colab": {
          "base_uri": "https://localhost:8080/"
        },
        "id": "5jD4BZd93H8N",
        "outputId": "af643c46-4ede-473e-caa1-63eb9969d9d2"
      },
      "execution_count": null,
      "outputs": [
        {
          "output_type": "stream",
          "name": "stdout",
          "text": [
            "torch.Size([5])\n"
          ]
        },
        {
          "output_type": "execute_result",
          "data": {
            "text/plain": [
              "tensor([[0.9310, 0.3042, 0.2726, 0.6273, 0.4811]])"
            ]
          },
          "metadata": {},
          "execution_count": 53
        }
      ]
    },
    {
      "cell_type": "code",
      "source": [
        "torch.unsqueeze(squeezed, dim = 1)"
      ],
      "metadata": {
        "colab": {
          "base_uri": "https://localhost:8080/"
        },
        "id": "-Zn4aEzB3Sec",
        "outputId": "0f0b724d-efcf-45bf-a2f5-cf724e13ebda"
      },
      "execution_count": null,
      "outputs": [
        {
          "output_type": "execute_result",
          "data": {
            "text/plain": [
              "tensor([[0.9310],\n",
              "        [0.3042],\n",
              "        [0.2726],\n",
              "        [0.6273],\n",
              "        [0.4811]])"
            ]
          },
          "metadata": {},
          "execution_count": 54
        }
      ]
    },
    {
      "cell_type": "markdown",
      "source": [
        "### Permute"
      ],
      "metadata": {
        "id": "20ANw_85309_"
      }
    },
    {
      "cell_type": "code",
      "source": [
        "tensor = torch.rand(256,256,3) # h,w,c\n",
        "permuted = tensor.permute(2,0,1) # c,h,w; so 0->1, 1->2, 2->0\n",
        "print(tensor.shape)\n",
        "print(permuted.shape)\n",
        "\n",
        "# rearrange the dimensions; returns a view (shared memory)"
      ],
      "metadata": {
        "colab": {
          "base_uri": "https://localhost:8080/"
        },
        "id": "Qiq3mt4E3iNv",
        "outputId": "2dd346c5-fe6d-4dc1-b25d-9824bf1a1b22"
      },
      "execution_count": null,
      "outputs": [
        {
          "output_type": "stream",
          "name": "stdout",
          "text": [
            "torch.Size([256, 256, 3])\n",
            "torch.Size([3, 256, 256])\n"
          ]
        }
      ]
    },
    {
      "cell_type": "markdown",
      "source": [
        "## Indexing\n",
        "\n",
        "Similar to NumPy"
      ],
      "metadata": {
        "id": "Ynem5xwl6fJ8"
      }
    },
    {
      "cell_type": "code",
      "source": [
        "tensor = torch.randint(low = 0, high = 15, size = (1,3,5))\n",
        "tensor"
      ],
      "metadata": {
        "colab": {
          "base_uri": "https://localhost:8080/"
        },
        "id": "chCjh-OI8Ohs",
        "outputId": "fe8eb4a2-9c72-4730-da66-472c8ecc9041"
      },
      "execution_count": null,
      "outputs": [
        {
          "output_type": "execute_result",
          "data": {
            "text/plain": [
              "tensor([[[ 9, 14,  1, 10,  2],\n",
              "         [14, 13,  1, 11,  2],\n",
              "         [14,  0, 12, 11, 14]]])"
            ]
          },
          "metadata": {},
          "execution_count": 71
        }
      ]
    },
    {
      "cell_type": "code",
      "source": [
        "tensor[0, 0, 0]"
      ],
      "metadata": {
        "colab": {
          "base_uri": "https://localhost:8080/"
        },
        "id": "j24pnEX48WP9",
        "outputId": "506c390f-846d-4656-de4d-57dfd22e3ff5"
      },
      "execution_count": null,
      "outputs": [
        {
          "output_type": "execute_result",
          "data": {
            "text/plain": [
              "tensor(9)"
            ]
          },
          "metadata": {},
          "execution_count": 73
        }
      ]
    },
    {
      "cell_type": "code",
      "source": [
        "tensor[:, :, :] # Entire"
      ],
      "metadata": {
        "colab": {
          "base_uri": "https://localhost:8080/"
        },
        "id": "tfjVFIxC8x5Z",
        "outputId": "67b93f75-bb01-46ed-9aa9-94d447caf57b"
      },
      "execution_count": null,
      "outputs": [
        {
          "output_type": "execute_result",
          "data": {
            "text/plain": [
              "tensor([[[ 9, 14,  1, 10,  2],\n",
              "         [14, 13,  1, 11,  2],\n",
              "         [14,  0, 12, 11, 14]]])"
            ]
          },
          "metadata": {},
          "execution_count": 75
        }
      ]
    },
    {
      "cell_type": "code",
      "source": [
        "tensor[0]"
      ],
      "metadata": {
        "colab": {
          "base_uri": "https://localhost:8080/"
        },
        "id": "pWnr6KUX83ou",
        "outputId": "26b64aac-19a5-4e58-d3a3-4a1b2937f963"
      },
      "execution_count": null,
      "outputs": [
        {
          "output_type": "execute_result",
          "data": {
            "text/plain": [
              "tensor([[ 9, 14,  1, 10,  2],\n",
              "        [14, 13,  1, 11,  2],\n",
              "        [14,  0, 12, 11, 14]])"
            ]
          },
          "metadata": {},
          "execution_count": 76
        }
      ]
    },
    {
      "cell_type": "code",
      "source": [
        "tensor[0][0]"
      ],
      "metadata": {
        "colab": {
          "base_uri": "https://localhost:8080/"
        },
        "id": "W9097UPD87Gx",
        "outputId": "855559fa-53d0-47c6-a290-7154d71f1984"
      },
      "execution_count": null,
      "outputs": [
        {
          "output_type": "execute_result",
          "data": {
            "text/plain": [
              "tensor([ 9, 14,  1, 10,  2])"
            ]
          },
          "metadata": {},
          "execution_count": 77
        }
      ]
    },
    {
      "cell_type": "code",
      "source": [
        "tensor[0,0,:] # Same as tensor[0][0]"
      ],
      "metadata": {
        "colab": {
          "base_uri": "https://localhost:8080/"
        },
        "id": "V5bmyftn8-G-",
        "outputId": "ae474a7e-9f7d-4761-bd81-b40bb1d10eec"
      },
      "execution_count": null,
      "outputs": [
        {
          "output_type": "execute_result",
          "data": {
            "text/plain": [
              "tensor([ 9, 14,  1, 10,  2])"
            ]
          },
          "metadata": {},
          "execution_count": 79
        }
      ]
    },
    {
      "cell_type": "code",
      "source": [
        "tensor[0][0][:] # Same as tensor[0][0]"
      ],
      "metadata": {
        "colab": {
          "base_uri": "https://localhost:8080/"
        },
        "id": "7OGlaTpi9Aqt",
        "outputId": "b9339211-e6c4-4b72-ce6c-b89912d1eaec"
      },
      "execution_count": null,
      "outputs": [
        {
          "output_type": "execute_result",
          "data": {
            "text/plain": [
              "tensor([ 9, 14,  1, 10,  2])"
            ]
          },
          "metadata": {},
          "execution_count": 81
        }
      ]
    },
    {
      "cell_type": "code",
      "source": [
        "# : means to select everything from that dimension\n",
        "\n",
        "tensor[0, :, 0]"
      ],
      "metadata": {
        "colab": {
          "base_uri": "https://localhost:8080/"
        },
        "id": "i7FIPF9r9Fnb",
        "outputId": "6cedd42c-096a-4398-f676-af5056659c26"
      },
      "execution_count": null,
      "outputs": [
        {
          "output_type": "execute_result",
          "data": {
            "text/plain": [
              "tensor([ 9, 14, 14])"
            ]
          },
          "metadata": {},
          "execution_count": 85
        }
      ]
    },
    {
      "cell_type": "code",
      "source": [
        "tensor[:, :, 4]"
      ],
      "metadata": {
        "colab": {
          "base_uri": "https://localhost:8080/"
        },
        "id": "ywNzMnTO9Ywa",
        "outputId": "51c87272-6519-4bdb-e8ac-77018a7dbaee"
      },
      "execution_count": null,
      "outputs": [
        {
          "output_type": "execute_result",
          "data": {
            "text/plain": [
              "tensor([[ 2,  2, 14]])"
            ]
          },
          "metadata": {},
          "execution_count": 89
        }
      ]
    },
    {
      "cell_type": "markdown",
      "source": [
        "## PyTorch vs Numpy"
      ],
      "metadata": {
        "id": "t88R3wtD-A3l"
      }
    },
    {
      "cell_type": "code",
      "source": [
        "# Might start with data in numpy, needed to convert to tensor"
      ],
      "metadata": {
        "id": "akHdlezS9py2"
      },
      "execution_count": null,
      "outputs": []
    },
    {
      "cell_type": "code",
      "source": [
        "# Numpy to Tensor\n",
        "array = np.arange(1.0, 8.0)\n",
        "tensor = torch.from_numpy(array)\n",
        "array, tensor"
      ],
      "metadata": {
        "colab": {
          "base_uri": "https://localhost:8080/"
        },
        "id": "mrD5-gGI-NO-",
        "outputId": "097bf575-9f7b-4cd1-ddac-40a672d6841b"
      },
      "execution_count": null,
      "outputs": [
        {
          "output_type": "execute_result",
          "data": {
            "text/plain": [
              "(array([1., 2., 3., 4., 5., 6., 7.]),\n",
              " tensor([1., 2., 3., 4., 5., 6., 7.], dtype=torch.float64))"
            ]
          },
          "metadata": {},
          "execution_count": 102
        }
      ]
    },
    {
      "cell_type": "code",
      "source": [
        "array.dtype, tensor.dtype"
      ],
      "metadata": {
        "colab": {
          "base_uri": "https://localhost:8080/"
        },
        "id": "EkqWWdf4-YcO",
        "outputId": "23d6159e-3ec3-42d9-d056-73e430a9995f"
      },
      "execution_count": null,
      "outputs": [
        {
          "output_type": "execute_result",
          "data": {
            "text/plain": [
              "(dtype('float64'), torch.float64)"
            ]
          },
          "metadata": {},
          "execution_count": 103
        }
      ]
    },
    {
      "cell_type": "code",
      "source": [
        "tensor = torch.from_numpy(array).type(torch.float32)\n",
        "tensor, tensor.dtype"
      ],
      "metadata": {
        "colab": {
          "base_uri": "https://localhost:8080/"
        },
        "id": "EMZw8T7x-iMe",
        "outputId": "d5dd0396-d8a2-4afb-ecec-ddd3e6406212"
      },
      "execution_count": null,
      "outputs": [
        {
          "output_type": "execute_result",
          "data": {
            "text/plain": [
              "(tensor([1., 2., 3., 4., 5., 6., 7.]), torch.float32)"
            ]
          },
          "metadata": {},
          "execution_count": 104
        }
      ]
    },
    {
      "cell_type": "code",
      "source": [
        "array = tensor.numpy()\n",
        "array"
      ],
      "metadata": {
        "colab": {
          "base_uri": "https://localhost:8080/"
        },
        "id": "7a8YPcj5_QB8",
        "outputId": "dcf8116e-fe3a-47b3-a3ac-2b6408982a70"
      },
      "execution_count": null,
      "outputs": [
        {
          "output_type": "execute_result",
          "data": {
            "text/plain": [
              "array([1., 2., 3., 4., 5., 6., 7.], dtype=float32)"
            ]
          },
          "metadata": {},
          "execution_count": 108
        }
      ]
    },
    {
      "cell_type": "markdown",
      "source": [
        "## Random Reproducibility"
      ],
      "metadata": {
        "id": "5HpUkZAX_e5c"
      }
    },
    {
      "cell_type": "code",
      "source": [
        "# Reproducable experiments need some less randomness\n",
        "# Random seed is required"
      ],
      "metadata": {
        "id": "l47TzlqR_U_n"
      },
      "execution_count": null,
      "outputs": []
    },
    {
      "cell_type": "code",
      "source": [
        "tensorA = torch.rand(3,3)\n",
        "tensorB = torch.rand(3,3)\n",
        "\n",
        "print(tensorA)\n",
        "print(tensorB)\n",
        "tensorA==tensorB"
      ],
      "metadata": {
        "colab": {
          "base_uri": "https://localhost:8080/"
        },
        "id": "kp1BBAdq_wHg",
        "outputId": "2b91e4a5-1809-44c0-eee9-1bce2307437e"
      },
      "execution_count": null,
      "outputs": [
        {
          "output_type": "stream",
          "name": "stdout",
          "text": [
            "tensor([[0.0227, 0.1168, 0.0561],\n",
            "        [0.2620, 0.2196, 0.5718],\n",
            "        [0.9271, 0.7009, 0.8585]])\n",
            "tensor([[0.4799, 0.1706, 0.8212],\n",
            "        [0.2671, 0.5357, 0.3940],\n",
            "        [0.7657, 0.4972, 0.4701]])\n"
          ]
        },
        {
          "output_type": "execute_result",
          "data": {
            "text/plain": [
              "tensor([[False, False, False],\n",
              "        [False, False, False],\n",
              "        [False, False, False]])"
            ]
          },
          "metadata": {},
          "execution_count": 116
        }
      ]
    },
    {
      "cell_type": "code",
      "source": [
        "RANDOM_SEED = 42\n",
        "\n",
        "torch.manual_seed(RANDOM_SEED)\n",
        "tensorA = torch.rand(3,3)\n",
        "\n",
        "torch.manual_seed(RANDOM_SEED) # Needs to be done again and again\n",
        "tensorB = torch.rand(3,3)\n",
        "\n",
        "print(tensorA)\n",
        "print(tensorB)\n",
        "tensorA==tensorB"
      ],
      "metadata": {
        "colab": {
          "base_uri": "https://localhost:8080/"
        },
        "id": "GX29kHgY_26Y",
        "outputId": "976276d4-9908-4c0e-d218-a76ec60f4ec3"
      },
      "execution_count": null,
      "outputs": [
        {
          "output_type": "stream",
          "name": "stdout",
          "text": [
            "tensor([[0.8823, 0.9150, 0.3829],\n",
            "        [0.9593, 0.3904, 0.6009],\n",
            "        [0.2566, 0.7936, 0.9408]])\n",
            "tensor([[0.8823, 0.9150, 0.3829],\n",
            "        [0.9593, 0.3904, 0.6009],\n",
            "        [0.2566, 0.7936, 0.9408]])\n"
          ]
        },
        {
          "output_type": "execute_result",
          "data": {
            "text/plain": [
              "tensor([[True, True, True],\n",
              "        [True, True, True],\n",
              "        [True, True, True]])"
            ]
          },
          "metadata": {},
          "execution_count": 119
        }
      ]
    },
    {
      "cell_type": "markdown",
      "source": [
        "## PyTorch Objects on GPU"
      ],
      "metadata": {
        "id": "q9mhzsDWBxAz"
      }
    },
    {
      "cell_type": "code",
      "source": [
        "import torch\n",
        "import numpy as np\n",
        "print(torch.__version__)"
      ],
      "metadata": {
        "colab": {
          "base_uri": "https://localhost:8080/"
        },
        "id": "1OQd8hqCDmvO",
        "outputId": "6884b3d8-96cb-4f0b-d47d-13633e1b70f5"
      },
      "execution_count": null,
      "outputs": [
        {
          "output_type": "stream",
          "name": "stdout",
          "text": [
            "2.5.1+cu124\n"
          ]
        }
      ]
    },
    {
      "cell_type": "markdown",
      "source": [
        "### Device agnostic code"
      ],
      "metadata": {
        "id": "AMi5Y_C4DNWW"
      }
    },
    {
      "cell_type": "code",
      "source": [
        "torch.cuda.is_available()"
      ],
      "metadata": {
        "colab": {
          "base_uri": "https://localhost:8080/"
        },
        "id": "RAmZf80OBLBF",
        "outputId": "243bee48-b260-4b21-c7d0-8f057968b526"
      },
      "execution_count": null,
      "outputs": [
        {
          "output_type": "execute_result",
          "data": {
            "text/plain": [
              "True"
            ]
          },
          "metadata": {},
          "execution_count": 5
        }
      ]
    },
    {
      "cell_type": "code",
      "source": [
        "!nvidia-smi"
      ],
      "metadata": {
        "colab": {
          "base_uri": "https://localhost:8080/"
        },
        "id": "PjJ9plGTCo4s",
        "outputId": "50911df8-3f83-435b-e4ff-6920d9394382"
      },
      "execution_count": null,
      "outputs": [
        {
          "output_type": "stream",
          "name": "stdout",
          "text": [
            "Mon Feb  3 13:44:59 2025       \n",
            "+-----------------------------------------------------------------------------------------+\n",
            "| NVIDIA-SMI 550.54.15              Driver Version: 550.54.15      CUDA Version: 12.4     |\n",
            "|-----------------------------------------+------------------------+----------------------+\n",
            "| GPU  Name                 Persistence-M | Bus-Id          Disp.A | Volatile Uncorr. ECC |\n",
            "| Fan  Temp   Perf          Pwr:Usage/Cap |           Memory-Usage | GPU-Util  Compute M. |\n",
            "|                                         |                        |               MIG M. |\n",
            "|=========================================+========================+======================|\n",
            "|   0  Tesla T4                       Off |   00000000:00:04.0 Off |                    0 |\n",
            "| N/A   50C    P8             11W /   70W |       2MiB /  15360MiB |      0%      Default |\n",
            "|                                         |                        |                  N/A |\n",
            "+-----------------------------------------+------------------------+----------------------+\n",
            "                                                                                         \n",
            "+-----------------------------------------------------------------------------------------+\n",
            "| Processes:                                                                              |\n",
            "|  GPU   GI   CI        PID   Type   Process name                              GPU Memory |\n",
            "|        ID   ID                                                               Usage      |\n",
            "|=========================================================================================|\n",
            "|  No running processes found                                                             |\n",
            "+-----------------------------------------------------------------------------------------+\n"
          ]
        }
      ]
    },
    {
      "cell_type": "code",
      "source": [
        "device = \"cuda\" if torch.cuda.is_available() else \"cpu\"\n",
        "device"
      ],
      "metadata": {
        "colab": {
          "base_uri": "https://localhost:8080/",
          "height": 36
        },
        "id": "y9L2OY3yCqKH",
        "outputId": "f616f91a-072a-46be-8197-e842295873a7"
      },
      "execution_count": null,
      "outputs": [
        {
          "output_type": "execute_result",
          "data": {
            "text/plain": [
              "'cuda'"
            ],
            "application/vnd.google.colaboratory.intrinsic+json": {
              "type": "string"
            }
          },
          "metadata": {},
          "execution_count": 7
        }
      ]
    },
    {
      "cell_type": "code",
      "source": [
        "torch.cuda.device_count()"
      ],
      "metadata": {
        "colab": {
          "base_uri": "https://localhost:8080/"
        },
        "id": "eBwr6fuzCwUt",
        "outputId": "fdc1628b-89b7-4e81-b124-c190a176df68"
      },
      "execution_count": null,
      "outputs": [
        {
          "output_type": "execute_result",
          "data": {
            "text/plain": [
              "1"
            ]
          },
          "metadata": {},
          "execution_count": 8
        }
      ]
    },
    {
      "cell_type": "code",
      "source": [
        "tensor = torch.tensor([1,2,3]) # Not on gpu\n",
        "tensor.device"
      ],
      "metadata": {
        "colab": {
          "base_uri": "https://localhost:8080/"
        },
        "id": "y-0AwluyC0IF",
        "outputId": "df88d633-5d7e-4bfd-98d3-eb58983b127e"
      },
      "execution_count": null,
      "outputs": [
        {
          "output_type": "execute_result",
          "data": {
            "text/plain": [
              "device(type='cpu')"
            ]
          },
          "metadata": {},
          "execution_count": 9
        }
      ]
    },
    {
      "cell_type": "code",
      "source": [
        "# Move to GPU\n",
        "\n",
        "tensor_gpu = tensor.to(device)\n",
        "tensor_gpu"
      ],
      "metadata": {
        "colab": {
          "base_uri": "https://localhost:8080/"
        },
        "id": "x4Ef4yVKDYHL",
        "outputId": "0710b2ac-4951-40cd-e187-447e1fc5723c"
      },
      "execution_count": null,
      "outputs": [
        {
          "output_type": "execute_result",
          "data": {
            "text/plain": [
              "tensor([1, 2, 3], device='cuda:0')"
            ]
          },
          "metadata": {},
          "execution_count": 12
        }
      ]
    },
    {
      "cell_type": "code",
      "source": [
        "# Move to CPU (if we need to make np.ndarray from tensor)\n",
        "\n",
        "#tensor.numpy() # Gives error\n",
        "\n",
        "tensor_gpu.cpu().numpy() # Works; returns a copy, no shared memory"
      ],
      "metadata": {
        "colab": {
          "base_uri": "https://localhost:8080/"
        },
        "id": "oe9eR4sYD2cN",
        "outputId": "e3236d61-d03d-4541-f45b-d8b8ef22b82c"
      },
      "execution_count": null,
      "outputs": [
        {
          "output_type": "execute_result",
          "data": {
            "text/plain": [
              "array([1, 2, 3])"
            ]
          },
          "metadata": {},
          "execution_count": 13
        }
      ]
    },
    {
      "cell_type": "code",
      "source": [],
      "metadata": {
        "id": "jEwTFKHoEJLA"
      },
      "execution_count": null,
      "outputs": []
    }
  ]
}